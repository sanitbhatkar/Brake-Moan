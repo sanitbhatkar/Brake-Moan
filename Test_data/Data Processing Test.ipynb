{
 "cells": [
  {
   "cell_type": "code",
   "execution_count": 2,
   "id": "abdae212",
   "metadata": {},
   "outputs": [],
   "source": [
    "import numpy as np\n",
    "import pandas as pd\n",
    "import matplotlib.pyplot as plt\n",
    "import os"
   ]
  },
  {
   "cell_type": "code",
   "execution_count": 3,
   "id": "4d4d08c1",
   "metadata": {},
   "outputs": [
    {
     "name": "stdout",
     "output_type": "stream",
     "text": [
      " Volume in drive G is New Volume\n",
      " Volume Serial Number is AAA4-0BD0\n",
      "\n",
      " Directory of G:\\Sanit_Horizontal\\Data Analysis\\Dharin Project files\\Friction Measurement Issues\n",
      "\n",
      "16-12-2022  14:01    <DIR>          .\n",
      "16-12-2022  14:01    <DIR>          ..\n",
      "16-12-2022  13:47    <DIR>          .ipynb_checkpoints\n",
      "16-12-2022  13:45        31,206,173 _30N_Vel.xlsx\n",
      "14-12-2022  16:33        40,199,211 _40N_Vel.xlsx\n",
      "16-12-2022  13:42        44,132,769 _50N_Vel.xlsx\n",
      "16-12-2022  13:46        17,990,829 30N.pkl\n",
      "16-12-2022  12:01        19,296,071 40N.pkl\n",
      "16-12-2022  11:56        16,273,546 50N.pkl\n",
      "15-12-2022  10:58           117,945 Data Input.ipynb\n",
      "15-12-2022  18:14           540,849 Data Input_rev_15_12.ipynb\n",
      "16-12-2022  09:56           496,030 Data Input_rev2_15_12.ipynb\n",
      "16-12-2022  14:01             6,408 Data Processing.ipynb\n",
      "16-12-2022  13:47            21,364 data_pickle_final.ipynb\n",
      "16-12-2022  11:51            53,070 data_pickle_test.ipynb\n",
      "              12 File(s)    170,334,265 bytes\n",
      "               3 Dir(s)  134,228,852,736 bytes free\n"
     ]
    }
   ],
   "source": [
    "ls"
   ]
  },
  {
   "cell_type": "code",
   "execution_count": 25,
   "id": "c5d4fc48",
   "metadata": {},
   "outputs": [],
   "source": [
    "def test_vel(df):\n",
    "    \n",
    "    metric = df.quantile(\n",
    "    q=0.5,                      # The percentile to calculate\n",
    "    axis=0,                     # The axis to calculate the percentile on\n",
    "    numeric_only=True,          # To calculate only for numeric columns\n",
    "    interpolation='linear'      # The type of interpolation to use when the quantile is between 2 values\n",
    "    )\n",
    "    \n",
    "    temp = df[df['vel'] > metric[0]]\n",
    "    temp.reset_index(inplace = True, drop = True)\n",
    "    \n",
    "    return temp\n",
    "       "
   ]
  },
  {
   "cell_type": "code",
   "execution_count": 290,
   "id": "9f8129ac",
   "metadata": {},
   "outputs": [],
   "source": [
    "dict = pd.read_pickle('50N.pkl')"
   ]
  },
  {
   "cell_type": "code",
   "execution_count": 291,
   "id": "fc4afcfb",
   "metadata": {},
   "outputs": [],
   "source": [
    "i = 5"
   ]
  },
  {
   "cell_type": "code",
   "execution_count": 292,
   "id": "05f6db0b",
   "metadata": {},
   "outputs": [],
   "source": [
    "df= pd.DataFrame(dict[list(dict.keys())[5]])"
   ]
  },
  {
   "cell_type": "code",
   "execution_count": 293,
   "id": "0b153910",
   "metadata": {},
   "outputs": [
    {
     "data": {
      "text/html": [
       "<div>\n",
       "<style scoped>\n",
       "    .dataframe tbody tr th:only-of-type {\n",
       "        vertical-align: middle;\n",
       "    }\n",
       "\n",
       "    .dataframe tbody tr th {\n",
       "        vertical-align: top;\n",
       "    }\n",
       "\n",
       "    .dataframe thead th {\n",
       "        text-align: right;\n",
       "    }\n",
       "</style>\n",
       "<table border=\"1\" class=\"dataframe\">\n",
       "  <thead>\n",
       "    <tr style=\"text-align: right;\">\n",
       "      <th></th>\n",
       "      <th>vel</th>\n",
       "      <th>T_cor</th>\n",
       "      <th>F_lever</th>\n",
       "      <th>T_SG</th>\n",
       "      <th>press</th>\n",
       "      <th>temp</th>\n",
       "      <th>pos</th>\n",
       "    </tr>\n",
       "  </thead>\n",
       "  <tbody>\n",
       "    <tr>\n",
       "      <th>0</th>\n",
       "      <td>0.0208</td>\n",
       "      <td>111.8160</td>\n",
       "      <td>49.8173</td>\n",
       "      <td>162.9170</td>\n",
       "      <td>16.315</td>\n",
       "      <td>28.0243</td>\n",
       "      <td>14.38</td>\n",
       "    </tr>\n",
       "    <tr>\n",
       "      <th>1</th>\n",
       "      <td>0.0880</td>\n",
       "      <td>131.6923</td>\n",
       "      <td>49.7733</td>\n",
       "      <td>166.1880</td>\n",
       "      <td>16.284</td>\n",
       "      <td>28.0162</td>\n",
       "      <td>14.40</td>\n",
       "    </tr>\n",
       "    <tr>\n",
       "      <th>2</th>\n",
       "      <td>0.1863</td>\n",
       "      <td>148.2792</td>\n",
       "      <td>49.7653</td>\n",
       "      <td>169.0938</td>\n",
       "      <td>16.278</td>\n",
       "      <td>28.0130</td>\n",
       "      <td>14.40</td>\n",
       "    </tr>\n",
       "    <tr>\n",
       "      <th>3</th>\n",
       "      <td>0.2655</td>\n",
       "      <td>156.7153</td>\n",
       "      <td>49.7653</td>\n",
       "      <td>172.5556</td>\n",
       "      <td>16.226</td>\n",
       "      <td>28.0148</td>\n",
       "      <td>14.42</td>\n",
       "    </tr>\n",
       "    <tr>\n",
       "      <th>4</th>\n",
       "      <td>0.3942</td>\n",
       "      <td>159.1714</td>\n",
       "      <td>49.7853</td>\n",
       "      <td>174.9311</td>\n",
       "      <td>16.187</td>\n",
       "      <td>28.0103</td>\n",
       "      <td>14.42</td>\n",
       "    </tr>\n",
       "  </tbody>\n",
       "</table>\n",
       "</div>"
      ],
      "text/plain": [
       "      vel     T_cor  F_lever      T_SG   press     temp    pos\n",
       "0  0.0208  111.8160  49.8173  162.9170  16.315  28.0243  14.38\n",
       "1  0.0880  131.6923  49.7733  166.1880  16.284  28.0162  14.40\n",
       "2  0.1863  148.2792  49.7653  169.0938  16.278  28.0130  14.40\n",
       "3  0.2655  156.7153  49.7653  172.5556  16.226  28.0148  14.42\n",
       "4  0.3942  159.1714  49.7853  174.9311  16.187  28.0103  14.42"
      ]
     },
     "execution_count": 293,
     "metadata": {},
     "output_type": "execute_result"
    }
   ],
   "source": [
    "df.head()"
   ]
  },
  {
   "cell_type": "code",
   "execution_count": 294,
   "id": "71ac7ccd",
   "metadata": {},
   "outputs": [],
   "source": [
    "data = test_vel(df)"
   ]
  },
  {
   "cell_type": "code",
   "execution_count": 295,
   "id": "59069d43",
   "metadata": {
    "scrolled": true
   },
   "outputs": [
    {
     "data": {
      "text/html": [
       "<div>\n",
       "<style scoped>\n",
       "    .dataframe tbody tr th:only-of-type {\n",
       "        vertical-align: middle;\n",
       "    }\n",
       "\n",
       "    .dataframe tbody tr th {\n",
       "        vertical-align: top;\n",
       "    }\n",
       "\n",
       "    .dataframe thead th {\n",
       "        text-align: right;\n",
       "    }\n",
       "</style>\n",
       "<table border=\"1\" class=\"dataframe\">\n",
       "  <thead>\n",
       "    <tr style=\"text-align: right;\">\n",
       "      <th></th>\n",
       "      <th>vel</th>\n",
       "      <th>T_cor</th>\n",
       "      <th>F_lever</th>\n",
       "      <th>T_SG</th>\n",
       "      <th>press</th>\n",
       "      <th>temp</th>\n",
       "      <th>pos</th>\n",
       "    </tr>\n",
       "  </thead>\n",
       "  <tbody>\n",
       "    <tr>\n",
       "      <th>0</th>\n",
       "      <td>5.9550</td>\n",
       "      <td>167.9449</td>\n",
       "      <td>49.9640</td>\n",
       "      <td>179.6674</td>\n",
       "      <td>16.395</td>\n",
       "      <td>31.5384</td>\n",
       "      <td>14.9</td>\n",
       "    </tr>\n",
       "    <tr>\n",
       "      <th>1</th>\n",
       "      <td>5.9504</td>\n",
       "      <td>175.1627</td>\n",
       "      <td>49.9947</td>\n",
       "      <td>189.6830</td>\n",
       "      <td>16.705</td>\n",
       "      <td>31.7052</td>\n",
       "      <td>14.9</td>\n",
       "    </tr>\n",
       "    <tr>\n",
       "      <th>2</th>\n",
       "      <td>5.9550</td>\n",
       "      <td>175.3182</td>\n",
       "      <td>50.0107</td>\n",
       "      <td>193.9427</td>\n",
       "      <td>16.614</td>\n",
       "      <td>31.7636</td>\n",
       "      <td>14.9</td>\n",
       "    </tr>\n",
       "    <tr>\n",
       "      <th>3</th>\n",
       "      <td>5.9930</td>\n",
       "      <td>179.2381</td>\n",
       "      <td>49.9720</td>\n",
       "      <td>192.3197</td>\n",
       "      <td>16.471</td>\n",
       "      <td>31.9033</td>\n",
       "      <td>14.9</td>\n",
       "    </tr>\n",
       "    <tr>\n",
       "      <th>4</th>\n",
       "      <td>6.0999</td>\n",
       "      <td>175.8675</td>\n",
       "      <td>49.9880</td>\n",
       "      <td>182.8562</td>\n",
       "      <td>16.311</td>\n",
       "      <td>31.9891</td>\n",
       "      <td>14.9</td>\n",
       "    </tr>\n",
       "  </tbody>\n",
       "</table>\n",
       "</div>"
      ],
      "text/plain": [
       "      vel     T_cor  F_lever      T_SG   press     temp   pos\n",
       "0  5.9550  167.9449  49.9640  179.6674  16.395  31.5384  14.9\n",
       "1  5.9504  175.1627  49.9947  189.6830  16.705  31.7052  14.9\n",
       "2  5.9550  175.3182  50.0107  193.9427  16.614  31.7636  14.9\n",
       "3  5.9930  179.2381  49.9720  192.3197  16.471  31.9033  14.9\n",
       "4  6.0999  175.8675  49.9880  182.8562  16.311  31.9891  14.9"
      ]
     },
     "execution_count": 295,
     "metadata": {},
     "output_type": "execute_result"
    }
   ],
   "source": [
    "data.head()"
   ]
  },
  {
   "cell_type": "markdown",
   "id": "cb801413",
   "metadata": {},
   "source": [
    "# Brake Related Data"
   ]
  },
  {
   "cell_type": "code",
   "execution_count": 296,
   "id": "a1e08d79",
   "metadata": {},
   "outputs": [],
   "source": [
    "# Brake Disc Diameter\n",
    "Db = 280*1e-2\n",
    "\n",
    "# Disc Inner Radius\n",
    "# Ri = 120*1e-3\n",
    "\n",
    "# Disc Outer Radius\n",
    "# Ro = 240*1e-3\n",
    "\n",
    "# Number of pad surfaces\n",
    "Ns = 2\n",
    "\n",
    "# Number of pistons per pad\n",
    "Np = 2\n",
    "\n",
    "# Rm = (Ro + Ri)/2.0\n",
    "\n",
    "Rm = 13.6\n",
    "\n",
    "# Brake Friction Constant calculation\n",
    "fric_const = 4*10/(np.pi*Db**2*Rm*Np*Ns)"
   ]
  },
  {
   "cell_type": "code",
   "execution_count": 297,
   "id": "2de89d31",
   "metadata": {},
   "outputs": [
    {
     "name": "stderr",
     "output_type": "stream",
     "text": [
      "C:\\Users\\spbhatkar.AHEAD\\AppData\\Local\\Temp\\ipykernel_13888\\455328930.py:1: SettingWithCopyWarning: \n",
      "A value is trying to be set on a copy of a slice from a DataFrame.\n",
      "Try using .loc[row_indexer,col_indexer] = value instead\n",
      "\n",
      "See the caveats in the documentation: https://pandas.pydata.org/pandas-docs/stable/user_guide/indexing.html#returning-a-view-versus-a-copy\n",
      "  data['mu'] = fric_const*(data['T_SG']/data['press'])\n"
     ]
    }
   ],
   "source": [
    "data['mu'] = fric_const*(data['T_SG']/data['press'])"
   ]
  },
  {
   "cell_type": "code",
   "execution_count": 298,
   "id": "9f733ffd",
   "metadata": {},
   "outputs": [
    {
     "data": {
      "text/html": [
       "<div>\n",
       "<style scoped>\n",
       "    .dataframe tbody tr th:only-of-type {\n",
       "        vertical-align: middle;\n",
       "    }\n",
       "\n",
       "    .dataframe tbody tr th {\n",
       "        vertical-align: top;\n",
       "    }\n",
       "\n",
       "    .dataframe thead th {\n",
       "        text-align: right;\n",
       "    }\n",
       "</style>\n",
       "<table border=\"1\" class=\"dataframe\">\n",
       "  <thead>\n",
       "    <tr style=\"text-align: right;\">\n",
       "      <th></th>\n",
       "      <th>vel</th>\n",
       "      <th>T_cor</th>\n",
       "      <th>F_lever</th>\n",
       "      <th>T_SG</th>\n",
       "      <th>press</th>\n",
       "      <th>temp</th>\n",
       "      <th>pos</th>\n",
       "      <th>mu</th>\n",
       "    </tr>\n",
       "  </thead>\n",
       "  <tbody>\n",
       "    <tr>\n",
       "      <th>0</th>\n",
       "      <td>5.9550</td>\n",
       "      <td>167.9449</td>\n",
       "      <td>49.9640</td>\n",
       "      <td>179.6674</td>\n",
       "      <td>16.395</td>\n",
       "      <td>31.5384</td>\n",
       "      <td>14.9</td>\n",
       "      <td>0.327155</td>\n",
       "    </tr>\n",
       "    <tr>\n",
       "      <th>1</th>\n",
       "      <td>5.9504</td>\n",
       "      <td>175.1627</td>\n",
       "      <td>49.9947</td>\n",
       "      <td>189.6830</td>\n",
       "      <td>16.705</td>\n",
       "      <td>31.7052</td>\n",
       "      <td>14.9</td>\n",
       "      <td>0.338982</td>\n",
       "    </tr>\n",
       "    <tr>\n",
       "      <th>2</th>\n",
       "      <td>5.9550</td>\n",
       "      <td>175.3182</td>\n",
       "      <td>50.0107</td>\n",
       "      <td>193.9427</td>\n",
       "      <td>16.614</td>\n",
       "      <td>31.7636</td>\n",
       "      <td>14.9</td>\n",
       "      <td>0.348493</td>\n",
       "    </tr>\n",
       "    <tr>\n",
       "      <th>3</th>\n",
       "      <td>5.9930</td>\n",
       "      <td>179.2381</td>\n",
       "      <td>49.9720</td>\n",
       "      <td>192.3197</td>\n",
       "      <td>16.471</td>\n",
       "      <td>31.9033</td>\n",
       "      <td>14.9</td>\n",
       "      <td>0.348577</td>\n",
       "    </tr>\n",
       "    <tr>\n",
       "      <th>4</th>\n",
       "      <td>6.0999</td>\n",
       "      <td>175.8675</td>\n",
       "      <td>49.9880</td>\n",
       "      <td>182.8562</td>\n",
       "      <td>16.311</td>\n",
       "      <td>31.9891</td>\n",
       "      <td>14.9</td>\n",
       "      <td>0.334676</td>\n",
       "    </tr>\n",
       "  </tbody>\n",
       "</table>\n",
       "</div>"
      ],
      "text/plain": [
       "      vel     T_cor  F_lever      T_SG   press     temp   pos        mu\n",
       "0  5.9550  167.9449  49.9640  179.6674  16.395  31.5384  14.9  0.327155\n",
       "1  5.9504  175.1627  49.9947  189.6830  16.705  31.7052  14.9  0.338982\n",
       "2  5.9550  175.3182  50.0107  193.9427  16.614  31.7636  14.9  0.348493\n",
       "3  5.9930  179.2381  49.9720  192.3197  16.471  31.9033  14.9  0.348577\n",
       "4  6.0999  175.8675  49.9880  182.8562  16.311  31.9891  14.9  0.334676"
      ]
     },
     "execution_count": 298,
     "metadata": {},
     "output_type": "execute_result"
    }
   ],
   "source": [
    "data.head()"
   ]
  },
  {
   "cell_type": "code",
   "execution_count": 299,
   "id": "4a565c9c",
   "metadata": {},
   "outputs": [
    {
     "data": {
      "text/plain": [
       "[<matplotlib.lines.Line2D at 0x2641fd85a60>]"
      ]
     },
     "execution_count": 299,
     "metadata": {},
     "output_type": "execute_result"
    },
    {
     "data": {
      "image/png": "[encoded data removed]",
      "text/plain": [
       "<Figure size 640x480 with 1 Axes>"
      ]
     },
     "metadata": {},
     "output_type": "display_data"
    }
   ],
   "source": [
    "plt.plot(data['mu'])"
   ]
  },
  {
   "cell_type": "code",
   "execution_count": null,
   "id": "3159d21a",
   "metadata": {},
   "outputs": [],
   "source": []
  },
  {
   "cell_type": "markdown",
   "id": "fac537d4",
   "metadata": {},
   "source": [
    "# Removing the Outliers"
   ]
  },
  {
   "cell_type": "code",
   "execution_count": 302,
   "id": "e3e98354",
   "metadata": {},
   "outputs": [],
   "source": [
    "from sklearn.neighbors import NearestNeighbors"
   ]
  },
  {
   "cell_type": "code",
   "execution_count": 302,
   "id": "bc51e17c",
   "metadata": {},
   "outputs": [],
   "source": [
    "from sklearn.neighbors import NearestNeighbors"
   ]
  },
  {
   "cell_type": "code",
   "execution_count": 306,
   "id": "555560c6",
   "metadata": {},
   "outputs": [],
   "source": [
    "y  = data"
   ]
  },
  {
   "cell_type": "code",
   "execution_count": 307,
   "id": "252334a8",
   "metadata": {},
   "outputs": [
    {
     "data": {
      "text/html": [
       "<style>#sk-container-id-15 {color: black;background-color: white;}#sk-container-id-15 pre{padding: 0;}#sk-container-id-15 div.sk-toggleable {background-color: white;}#sk-container-id-15 label.sk-toggleable__label {cursor: pointer;display: block;width: 100%;margin-bottom: 0;padding: 0.3em;box-sizing: border-box;text-align: center;}#sk-container-id-15 label.sk-toggleable__label-arrow:before {content: \"▸\";float: left;margin-right: 0.25em;color: #696969;}#sk-container-id-15 label.sk-toggleable__label-arrow:hover:before {color: black;}#sk-container-id-15 div.sk-estimator:hover label.sk-toggleable__label-arrow:before {color: black;}#sk-container-id-15 div.sk-toggleable__content {max-height: 0;max-width: 0;overflow: hidden;text-align: left;background-color: #f0f8ff;}#sk-container-id-15 div.sk-toggleable__content pre {margin: 0.2em;color: black;border-radius: 0.25em;background-color: #f0f8ff;}#sk-container-id-15 input.sk-toggleable__control:checked~div.sk-toggleable__content {max-height: 200px;max-width: 100%;overflow: auto;}#sk-container-id-15 input.sk-toggleable__control:checked~label.sk-toggleable__label-arrow:before {content: \"▾\";}#sk-container-id-15 div.sk-estimator input.sk-toggleable__control:checked~label.sk-toggleable__label {background-color: #d4ebff;}#sk-container-id-15 div.sk-label input.sk-toggleable__control:checked~label.sk-toggleable__label {background-color: #d4ebff;}#sk-container-id-15 input.sk-hidden--visually {border: 0;clip: rect(1px 1px 1px 1px);clip: rect(1px, 1px, 1px, 1px);height: 1px;margin: -1px;overflow: hidden;padding: 0;position: absolute;width: 1px;}#sk-container-id-15 div.sk-estimator {font-family: monospace;background-color: #f0f8ff;border: 1px dotted black;border-radius: 0.25em;box-sizing: border-box;margin-bottom: 0.5em;}#sk-container-id-15 div.sk-estimator:hover {background-color: #d4ebff;}#sk-container-id-15 div.sk-parallel-item::after {content: \"\";width: 100%;border-bottom: 1px solid gray;flex-grow: 1;}#sk-container-id-15 div.sk-label:hover label.sk-toggleable__label {background-color: #d4ebff;}#sk-container-id-15 div.sk-serial::before {content: \"\";position: absolute;border-left: 1px solid gray;box-sizing: border-box;top: 0;bottom: 0;left: 50%;z-index: 0;}#sk-container-id-15 div.sk-serial {display: flex;flex-direction: column;align-items: center;background-color: white;padding-right: 0.2em;padding-left: 0.2em;position: relative;}#sk-container-id-15 div.sk-item {position: relative;z-index: 1;}#sk-container-id-15 div.sk-parallel {display: flex;align-items: stretch;justify-content: center;background-color: white;position: relative;}#sk-container-id-15 div.sk-item::before, #sk-container-id-15 div.sk-parallel-item::before {content: \"\";position: absolute;border-left: 1px solid gray;box-sizing: border-box;top: 0;bottom: 0;left: 50%;z-index: -1;}#sk-container-id-15 div.sk-parallel-item {display: flex;flex-direction: column;z-index: 1;position: relative;background-color: white;}#sk-container-id-15 div.sk-parallel-item:first-child::after {align-self: flex-end;width: 50%;}#sk-container-id-15 div.sk-parallel-item:last-child::after {align-self: flex-start;width: 50%;}#sk-container-id-15 div.sk-parallel-item:only-child::after {width: 0;}#sk-container-id-15 div.sk-dashed-wrapped {border: 1px dashed gray;margin: 0 0.4em 0.5em 0.4em;box-sizing: border-box;padding-bottom: 0.4em;background-color: white;}#sk-container-id-15 div.sk-label label {font-family: monospace;font-weight: bold;display: inline-block;line-height: 1.2em;}#sk-container-id-15 div.sk-label-container {text-align: center;}#sk-container-id-15 div.sk-container {/* jupyter's `normalize.less` sets `[hidden] { display: none; }` but bootstrap.min.css set `[hidden] { display: none !important; }` so we also need the `!important` here to be able to override the default hidden behavior on the sphinx rendered scikit-learn.org. See: https://github.com/scikit-learn/scikit-learn/issues/21755 */display: inline-block !important;position: relative;}#sk-container-id-15 div.sk-text-repr-fallback {display: none;}</style><div id=\"sk-container-id-15\" class=\"sk-top-container\"><div class=\"sk-text-repr-fallback\"><pre>NearestNeighbors(n_neighbors=3)</pre><b>In a Jupyter environment, please rerun this cell to show the HTML representation or trust the notebook. <br />On GitHub, the HTML representation is unable to render, please try loading this page with nbviewer.org.</b></div><div class=\"sk-container\" hidden><div class=\"sk-item\"><div class=\"sk-estimator sk-toggleable\"><input class=\"sk-toggleable__control sk-hidden--visually\" id=\"sk-estimator-id-15\" type=\"checkbox\" checked><label for=\"sk-estimator-id-15\" class=\"sk-toggleable__label sk-toggleable__label-arrow\">NearestNeighbors</label><div class=\"sk-toggleable__content\"><pre>NearestNeighbors(n_neighbors=3)</pre></div></div></div></div></div>"
      ],
      "text/plain": [
       "NearestNeighbors(n_neighbors=3)"
      ]
     },
     "execution_count": 307,
     "metadata": {},
     "output_type": "execute_result"
    }
   ],
   "source": [
    "# instantiate model\n",
    "nbrs = NearestNeighbors(n_neighbors = 3)\n",
    "\n",
    "# fit model\n",
    "nbrs.fit(y)"
   ]
  },
  {
   "cell_type": "code",
   "execution_count": 308,
   "id": "b7f23c5b",
   "metadata": {},
   "outputs": [
    {
     "data": {
      "text/plain": [
       "[<matplotlib.lines.Line2D at 0x264238bb3d0>]"
      ]
     },
     "execution_count": 308,
     "metadata": {},
     "output_type": "execute_result"
    },
    {
     "data": {
      "image/png": "[encoded data removed]",
      "text/plain": [
       "<Figure size 640x480 with 1 Axes>"
      ]
     },
     "metadata": {},
     "output_type": "display_data"
    }
   ],
   "source": [
    "# distances and indexes of k-neaighbors from model outputs\n",
    "distances, indexes = nbrs.kneighbors(y)\n",
    "\n",
    "# plot mean of k-distances of each observation\n",
    "plt.plot(distances.mean(axis =1))"
   ]
  },
  {
   "cell_type": "code",
   "execution_count": 309,
   "id": "b5e2f2fd",
   "metadata": {},
   "outputs": [],
   "source": [
    "temp3 = data"
   ]
  },
  {
   "cell_type": "code",
   "execution_count": 310,
   "id": "b3c73e1d",
   "metadata": {},
   "outputs": [
    {
     "data": {
      "text/html": [
       "<div>\n",
       "<style scoped>\n",
       "    .dataframe tbody tr th:only-of-type {\n",
       "        vertical-align: middle;\n",
       "    }\n",
       "\n",
       "    .dataframe tbody tr th {\n",
       "        vertical-align: top;\n",
       "    }\n",
       "\n",
       "    .dataframe thead th {\n",
       "        text-align: right;\n",
       "    }\n",
       "</style>\n",
       "<table border=\"1\" class=\"dataframe\">\n",
       "  <thead>\n",
       "    <tr style=\"text-align: right;\">\n",
       "      <th></th>\n",
       "      <th>vel</th>\n",
       "      <th>T_cor</th>\n",
       "      <th>F_lever</th>\n",
       "      <th>T_SG</th>\n",
       "      <th>press</th>\n",
       "      <th>temp</th>\n",
       "      <th>pos</th>\n",
       "      <th>mu</th>\n",
       "    </tr>\n",
       "  </thead>\n",
       "  <tbody>\n",
       "    <tr>\n",
       "      <th>0</th>\n",
       "      <td>5.9550</td>\n",
       "      <td>167.9449</td>\n",
       "      <td>49.9640</td>\n",
       "      <td>179.6674</td>\n",
       "      <td>16.395</td>\n",
       "      <td>31.5384</td>\n",
       "      <td>14.9</td>\n",
       "      <td>0.327155</td>\n",
       "    </tr>\n",
       "    <tr>\n",
       "      <th>1</th>\n",
       "      <td>5.9504</td>\n",
       "      <td>175.1627</td>\n",
       "      <td>49.9947</td>\n",
       "      <td>189.6830</td>\n",
       "      <td>16.705</td>\n",
       "      <td>31.7052</td>\n",
       "      <td>14.9</td>\n",
       "      <td>0.338982</td>\n",
       "    </tr>\n",
       "    <tr>\n",
       "      <th>2</th>\n",
       "      <td>5.9550</td>\n",
       "      <td>175.3182</td>\n",
       "      <td>50.0107</td>\n",
       "      <td>193.9427</td>\n",
       "      <td>16.614</td>\n",
       "      <td>31.7636</td>\n",
       "      <td>14.9</td>\n",
       "      <td>0.348493</td>\n",
       "    </tr>\n",
       "    <tr>\n",
       "      <th>3</th>\n",
       "      <td>5.9930</td>\n",
       "      <td>179.2381</td>\n",
       "      <td>49.9720</td>\n",
       "      <td>192.3197</td>\n",
       "      <td>16.471</td>\n",
       "      <td>31.9033</td>\n",
       "      <td>14.9</td>\n",
       "      <td>0.348577</td>\n",
       "    </tr>\n",
       "    <tr>\n",
       "      <th>4</th>\n",
       "      <td>6.0999</td>\n",
       "      <td>175.8675</td>\n",
       "      <td>49.9880</td>\n",
       "      <td>182.8562</td>\n",
       "      <td>16.311</td>\n",
       "      <td>31.9891</td>\n",
       "      <td>14.9</td>\n",
       "      <td>0.334676</td>\n",
       "    </tr>\n",
       "  </tbody>\n",
       "</table>\n",
       "</div>"
      ],
      "text/plain": [
       "      vel     T_cor  F_lever      T_SG   press     temp   pos        mu\n",
       "0  5.9550  167.9449  49.9640  179.6674  16.395  31.5384  14.9  0.327155\n",
       "1  5.9504  175.1627  49.9947  189.6830  16.705  31.7052  14.9  0.338982\n",
       "2  5.9550  175.3182  50.0107  193.9427  16.614  31.7636  14.9  0.348493\n",
       "3  5.9930  179.2381  49.9720  192.3197  16.471  31.9033  14.9  0.348577\n",
       "4  6.0999  175.8675  49.9880  182.8562  16.311  31.9891  14.9  0.334676"
      ]
     },
     "execution_count": 310,
     "metadata": {},
     "output_type": "execute_result"
    }
   ],
   "source": [
    "temp3.head()"
   ]
  },
  {
   "cell_type": "code",
   "execution_count": 311,
   "id": "a726cfa8",
   "metadata": {},
   "outputs": [],
   "source": [
    "met = np.quantile(distances.mean(axis =1),q=0.75)"
   ]
  },
  {
   "cell_type": "code",
   "execution_count": 312,
   "id": "2a807697",
   "metadata": {
    "scrolled": true
   },
   "outputs": [
    {
     "name": "stderr",
     "output_type": "stream",
     "text": [
      "C:\\Users\\spbhatkar.AHEAD\\AppData\\Local\\Temp\\ipykernel_13888\\1523621231.py:1: SettingWithCopyWarning: \n",
      "A value is trying to be set on a copy of a slice from a DataFrame\n",
      "\n",
      "See the caveats in the documentation: https://pandas.pydata.org/pandas-docs/stable/user_guide/indexing.html#returning-a-view-versus-a-copy\n",
      "  temp3.drop(index = np.argwhere(distances.mean(axis =1) > met)[:,0], inplace = True)\n"
     ]
    }
   ],
   "source": [
    "temp3.drop(index = np.argwhere(distances.mean(axis =1) > met)[:,0], inplace = True)"
   ]
  },
  {
   "cell_type": "code",
   "execution_count": 313,
   "id": "f8d4a069",
   "metadata": {},
   "outputs": [
    {
     "data": {
      "text/html": [
       "<div>\n",
       "<style scoped>\n",
       "    .dataframe tbody tr th:only-of-type {\n",
       "        vertical-align: middle;\n",
       "    }\n",
       "\n",
       "    .dataframe tbody tr th {\n",
       "        vertical-align: top;\n",
       "    }\n",
       "\n",
       "    .dataframe thead th {\n",
       "        text-align: right;\n",
       "    }\n",
       "</style>\n",
       "<table border=\"1\" class=\"dataframe\">\n",
       "  <thead>\n",
       "    <tr style=\"text-align: right;\">\n",
       "      <th></th>\n",
       "      <th>vel</th>\n",
       "      <th>T_cor</th>\n",
       "      <th>F_lever</th>\n",
       "      <th>T_SG</th>\n",
       "      <th>press</th>\n",
       "      <th>temp</th>\n",
       "      <th>pos</th>\n",
       "      <th>mu</th>\n",
       "    </tr>\n",
       "  </thead>\n",
       "  <tbody>\n",
       "    <tr>\n",
       "      <th>2</th>\n",
       "      <td>5.9550</td>\n",
       "      <td>175.3182</td>\n",
       "      <td>50.0107</td>\n",
       "      <td>193.9427</td>\n",
       "      <td>16.614</td>\n",
       "      <td>31.7636</td>\n",
       "      <td>14.9</td>\n",
       "      <td>0.348493</td>\n",
       "    </tr>\n",
       "    <tr>\n",
       "      <th>3</th>\n",
       "      <td>5.9930</td>\n",
       "      <td>179.2381</td>\n",
       "      <td>49.9720</td>\n",
       "      <td>192.3197</td>\n",
       "      <td>16.471</td>\n",
       "      <td>31.9033</td>\n",
       "      <td>14.9</td>\n",
       "      <td>0.348577</td>\n",
       "    </tr>\n",
       "    <tr>\n",
       "      <th>8</th>\n",
       "      <td>6.0043</td>\n",
       "      <td>178.3530</td>\n",
       "      <td>49.9947</td>\n",
       "      <td>188.4290</td>\n",
       "      <td>16.480</td>\n",
       "      <td>32.2139</td>\n",
       "      <td>14.9</td>\n",
       "      <td>0.341339</td>\n",
       "    </tr>\n",
       "    <tr>\n",
       "      <th>9</th>\n",
       "      <td>6.0316</td>\n",
       "      <td>178.0391</td>\n",
       "      <td>49.9613</td>\n",
       "      <td>192.2605</td>\n",
       "      <td>16.654</td>\n",
       "      <td>32.2324</td>\n",
       "      <td>14.9</td>\n",
       "      <td>0.344641</td>\n",
       "    </tr>\n",
       "    <tr>\n",
       "      <th>11</th>\n",
       "      <td>6.0217</td>\n",
       "      <td>181.7696</td>\n",
       "      <td>50.0440</td>\n",
       "      <td>186.8056</td>\n",
       "      <td>16.487</td>\n",
       "      <td>32.4843</td>\n",
       "      <td>14.9</td>\n",
       "      <td>0.338254</td>\n",
       "    </tr>\n",
       "  </tbody>\n",
       "</table>\n",
       "</div>"
      ],
      "text/plain": [
       "       vel     T_cor  F_lever      T_SG   press     temp   pos        mu\n",
       "2   5.9550  175.3182  50.0107  193.9427  16.614  31.7636  14.9  0.348493\n",
       "3   5.9930  179.2381  49.9720  192.3197  16.471  31.9033  14.9  0.348577\n",
       "8   6.0043  178.3530  49.9947  188.4290  16.480  32.2139  14.9  0.341339\n",
       "9   6.0316  178.0391  49.9613  192.2605  16.654  32.2324  14.9  0.344641\n",
       "11  6.0217  181.7696  50.0440  186.8056  16.487  32.4843  14.9  0.338254"
      ]
     },
     "execution_count": 313,
     "metadata": {},
     "output_type": "execute_result"
    }
   ],
   "source": [
    "temp3.head()"
   ]
  },
  {
   "cell_type": "code",
   "execution_count": 316,
   "id": "fb5f2cc0",
   "metadata": {
    "scrolled": false
   },
   "outputs": [
    {
     "data": {
      "image/png": "[encoded data removed]",
      "text/plain": [
       "<Figure size 640x480 with 6 Axes>"
      ]
     },
     "metadata": {},
     "output_type": "display_data"
    }
   ],
   "source": [
    "# Initialise the subplot function using number of rows and columns\n",
    "figure, axis = plt.subplots(3, 2)\n",
    "\n",
    "# For Lever Force\n",
    "axis[0, 0].scatter(np.arange(0,len(temp3),1),temp3['F_lever'])\n",
    "axis[0, 0].set_title(\"Lever Force\")\n",
    "\n",
    "# Lever Position\n",
    "axis[0, 1].scatter(np.arange(0,len(temp3),1),temp3['pos'])\n",
    "axis[0, 1].set_title(\"Lever Position\")\n",
    "  \n",
    "# For Fluid Pressure\n",
    "axis[1, 0].scatter(np.arange(0,len(temp3),1),temp3['press'])\n",
    "axis[1, 0].set_title(\"Fluid Pressure\")\n",
    "  \n",
    "# For Disc Temperature\n",
    "axis[1,1].scatter(np.arange(0,len(temp3),1),temp3['temp'])\n",
    "axis[1,1].set_title(\"Disc Temperature\")\n",
    "  \n",
    "# For Velocity\n",
    "axis[2,1].scatter(np.arange(0,len(temp3),1),temp3['vel'])\n",
    "axis[2,1].set_title(\"Velocity\")\n",
    "\n",
    "# For Coefficient of Friction\n",
    "axis[2,0].scatter(np.arange(0,len(temp3),1),temp3['mu'])\n",
    "axis[2,0].set_title(\"COF\")\n",
    "\n",
    "\n",
    "# plt.suptitle(f'Lever force = {metric[-1]} N and Velocity = {int(speed)} kmph', fontsize=14)\n",
    "\n",
    "figure.tight_layout()\n",
    "  \n",
    "# Combine all the operations and display\n",
    "plt.show()"
   ]
  },
  {
   "cell_type": "code",
   "execution_count": null,
   "id": "6f683adb",
   "metadata": {},
   "outputs": [],
   "source": []
  },
  {
   "cell_type": "code",
   "execution_count": null,
   "id": "fd2df2c1",
   "metadata": {},
   "outputs": [],
   "source": []
  },
  {
   "cell_type": "code",
   "execution_count": null,
   "id": "45841e44",
   "metadata": {},
   "outputs": [],
   "source": []
  }
 ],
 "metadata": {
  "kernelspec": {
   "display_name": "Python 3 (ipykernel)",
   "language": "python",
   "name": "python3"
  },
  "language_info": {
   "codemirror_mode": {
    "name": "ipython",
    "version": 3
   },
   "file_extension": ".py",
   "mimetype": "text/x-python",
   "name": "python",
   "nbconvert_exporter": "python",
   "pygments_lexer": "ipython3",
   "version": "3.9.15"
  }
 },
 "nbformat": 4,
 "nbformat_minor": 5
}
