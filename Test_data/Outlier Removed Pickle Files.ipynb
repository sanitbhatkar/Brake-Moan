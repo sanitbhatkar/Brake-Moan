{
 "cells": [
  {
   "cell_type": "code",
   "execution_count": 517,
   "id": "abdae212",
   "metadata": {},
   "outputs": [],
   "source": [
    "import numpy as np\n",
    "import pandas as pd\n",
    "import matplotlib.pyplot as plt\n",
    "import os\n",
    "from sklearn.neighbors import NearestNeighbors"
   ]
  },
  {
   "cell_type": "markdown",
   "id": "2a7098bf",
   "metadata": {},
   "source": [
    "# Extract Constant Velocity Data Function"
   ]
  },
  {
   "cell_type": "code",
   "execution_count": 518,
   "id": "c5d4fc48",
   "metadata": {},
   "outputs": [],
   "source": [
    "# Function used for taking constant velocity data from the DataFrame\n",
    "\n",
    "def test_vel(df):\n",
    "    \n",
    "    metric = df.quantile(\n",
    "    q=0.5,                      # The percentile to calculate\n",
    "    axis=0,                     # The axis to calculate the percentile on\n",
    "    numeric_only=True,          # To calculate only for numeric columns\n",
    "    interpolation='linear'      # The type of interpolation to use when the quantile is between 2 values\n",
    "    )\n",
    "    \n",
    "    temp = df[df['vel'] > metric[0]]\n",
    "    temp.reset_index(inplace = True, drop = True)\n",
    "    \n",
    "    return temp\n",
    "       "
   ]
  },
  {
   "cell_type": "markdown",
   "id": "a882ef0e",
   "metadata": {},
   "source": [
    "# Outlier Removal Function"
   ]
  },
  {
   "cell_type": "code",
   "execution_count": 519,
   "id": "4b18c5be",
   "metadata": {},
   "outputs": [],
   "source": [
    "def od_remove(df):\n",
    "    \n",
    "    # Instantiate model\n",
    "    nbrs = NearestNeighbors(n_neighbors = 3)\n",
    "\n",
    "    # fit model\n",
    "    nbrs.fit(df)\n",
    "\n",
    "    # distances and indexes of k-neaighbors from model outputs\n",
    "    distances, indexes = nbrs.kneighbors(df)\n",
    "\n",
    "    # inding the indices of the data above 75% quartile range\n",
    "    met = np.quantile(distances.mean(axis =1),q=0.75)\n",
    "\n",
    "    # Dropping the data\n",
    "    df.drop(index = np.argwhere(distances.mean(axis =1) > met)[:,0], inplace = True)\n",
    "    \n",
    "    return data"
   ]
  },
  {
   "cell_type": "markdown",
   "id": "54684d09",
   "metadata": {},
   "source": [
    "# Brake Related Data"
   ]
  },
  {
   "cell_type": "code",
   "execution_count": 520,
   "id": "dd5c0f65",
   "metadata": {},
   "outputs": [],
   "source": [
    "# Brake Disc Diameter\n",
    "Db = 280*1e-2\n",
    "\n",
    "# Disc Inner Radius\n",
    "# Ri = 120*1e-3\n",
    "\n",
    "# Disc Outer Radius\n",
    "# Ro = 240*1e-3\n",
    "\n",
    "# Number of pad surfaces\n",
    "Ns = 2\n",
    "\n",
    "# Number of pistons per pad\n",
    "Np = 2\n",
    "\n",
    "# Rm = (Ro + Ri)/2.0\n",
    "\n",
    "Rm = 13.6\n",
    "\n",
    "# Brake Friction Constant calculation\n",
    "fric_const = 4*10/(np.pi*Db**2*Rm*Np*Ns)"
   ]
  },
  {
   "cell_type": "markdown",
   "id": "a9c73fb1",
   "metadata": {},
   "source": [
    "# Reading the Data File"
   ]
  },
  {
   "cell_type": "code",
   "execution_count": 521,
   "id": "9f8129ac",
   "metadata": {},
   "outputs": [],
   "source": [
    "# 50N.pkl has all non-negative data\n",
    "\n",
    "dict = pd.read_pickle('40N.pkl')"
   ]
  },
  {
   "cell_type": "code",
   "execution_count": 522,
   "id": "d713cf54",
   "metadata": {},
   "outputs": [
    {
     "data": {
      "text/plain": [
       "dict_keys(['1kmph', '2kmph', '3kmph', '4kmph', '5kmph', '6kmph', '7kmph', '8kmph', '9kmph', '10kmph', '15kmph', '20kmph', '25kmph'])"
      ]
     },
     "execution_count": 522,
     "metadata": {},
     "output_type": "execute_result"
    }
   ],
   "source": [
    "dict.keys()"
   ]
  },
  {
   "cell_type": "code",
   "execution_count": 523,
   "id": "5961dd02",
   "metadata": {},
   "outputs": [
    {
     "data": {
      "text/plain": [
       "True"
      ]
     },
     "execution_count": 523,
     "metadata": {},
     "output_type": "execute_result"
    }
   ],
   "source": [
    "not bool(dict['1kmph']['press'])"
   ]
  },
  {
   "cell_type": "markdown",
   "id": "8a2411d2",
   "metadata": {},
   "source": [
    "# Main Code"
   ]
  },
  {
   "cell_type": "code",
   "execution_count": 524,
   "id": "79d3e016",
   "metadata": {},
   "outputs": [],
   "source": [
    "dict_clean = {}"
   ]
  },
  {
   "cell_type": "code",
   "execution_count": 525,
   "id": "fc4afcfb",
   "metadata": {
    "scrolled": true
   },
   "outputs": [],
   "source": [
    "\n",
    "for i in np.arange(0,len(dict),1):\n",
    "    \n",
    "    #     print(i)\n",
    "\n",
    "    sheet_name = list(dict.keys())[i]\n",
    "    \n",
    "    # Checking for Empty dictionary\n",
    "    \n",
    "    if (not bool(dict[sheet_name]['press'])):\n",
    "        \n",
    "        dict[sheet_name]['mu'] = {}\n",
    "        d = dict[sheet_name]\n",
    "        \n",
    "    # Storing values in global pickle dictionary\n",
    "    #   print(f'{sheet_name}')\n",
    "        dict_clean[sheet_name] = d\n",
    "        \n",
    "    else: \n",
    "\n",
    "        df= pd.DataFrame(dict[sheet_name])\n",
    "\n",
    "        # Getting constant velocity dataset\n",
    "        data = test_vel(df)\n",
    "\n",
    "        # Calculating Coefficient of Friction\n",
    "        pd.set_option('mode.chained_assignment', None)\n",
    "        data['mu'] = fric_const*(data['T_SG']/data['press'])\n",
    "\n",
    "        # Removing the Outliers\n",
    "        data = od_remove(data)\n",
    "\n",
    "        # Storing the data in dictionary\n",
    "        d = data.to_dict()\n",
    "\n",
    "        # Storing values in global pickle dictionary\n",
    "    #     print(f'{sheet_name}')\n",
    "        dict_clean[sheet_name] = d"
   ]
  },
  {
   "cell_type": "code",
   "execution_count": 526,
   "id": "e01a26b4",
   "metadata": {
    "scrolled": true
   },
   "outputs": [
    {
     "data": {
      "text/plain": [
       "dict_keys(['1kmph', '2kmph', '3kmph', '4kmph', '5kmph', '6kmph', '7kmph', '8kmph', '9kmph', '10kmph', '15kmph', '20kmph', '25kmph'])"
      ]
     },
     "execution_count": 526,
     "metadata": {},
     "output_type": "execute_result"
    }
   ],
   "source": [
    "dict_clean.keys()"
   ]
  },
  {
   "cell_type": "code",
   "execution_count": 527,
   "id": "c76ce511",
   "metadata": {},
   "outputs": [
    {
     "data": {
      "text/plain": [
       "dict_keys(['vel', 'T_cor', 'F_lever', 'T_SG', 'press', 'temp', 'pos', 'mu'])"
      ]
     },
     "execution_count": 527,
     "metadata": {},
     "output_type": "execute_result"
    }
   ],
   "source": [
    "dict_clean['3kmph'].keys()"
   ]
  },
  {
   "cell_type": "markdown",
   "id": "fac537d4",
   "metadata": {},
   "source": [
    "# Plots"
   ]
  },
  {
   "cell_type": "code",
   "execution_count": 528,
   "id": "9358c16f",
   "metadata": {},
   "outputs": [],
   "source": [
    "speed = data['vel'].mean()"
   ]
  },
  {
   "cell_type": "code",
   "execution_count": 529,
   "id": "3fe04b98",
   "metadata": {},
   "outputs": [],
   "source": [
    "force = data['F_lever'].max()"
   ]
  },
  {
   "cell_type": "code",
   "execution_count": 530,
   "id": "fb5f2cc0",
   "metadata": {
    "scrolled": true
   },
   "outputs": [
    {
     "data": {
      "image/png": "[encoded data removed]",
      "text/plain": [
       "<Figure size 432x288 with 6 Axes>"
      ]
     },
     "metadata": {
      "needs_background": "light"
     },
     "output_type": "display_data"
    }
   ],
   "source": [
    "# Initialise the subplot function using number of rows and columns\n",
    "figure, axis = plt.subplots(3, 2)\n",
    "\n",
    "# For Lever Force\n",
    "axis[0, 0].scatter(np.arange(0,len(data),1),data['F_lever'])\n",
    "axis[0, 0].set_title(\"Lever Force\")\n",
    "\n",
    "# Lever Position\n",
    "axis[0, 1].scatter(np.arange(0,len(data),1),data['pos'])\n",
    "axis[0, 1].set_title(\"Lever Position\")\n",
    "  \n",
    "# For Fluid Pressure\n",
    "axis[1, 0].scatter(np.arange(0,len(data),1),data['press'])\n",
    "axis[1, 0].set_title(\"Fluid Pressure\")\n",
    "  \n",
    "# For Disc Temperature\n",
    "axis[1,1].scatter(np.arange(0,len(data),1),data['temp'])\n",
    "axis[1,1].set_title(\"Disc Temperature\")\n",
    "  \n",
    "# For Velocity\n",
    "axis[2,1].scatter(np.arange(0,len(data),1),data['vel'])\n",
    "axis[2,1].set_title(\"Velocity\")\n",
    "\n",
    "# For Coefficient of Friction\n",
    "axis[2,0].scatter(np.arange(0,len(data),1),data['mu'])\n",
    "axis[2,0].set_title(\"COF\")\n",
    "\n",
    "\n",
    "plt.suptitle(f'Lever force = {int(force)} N and Velocity = {int(speed)} kmph', fontsize=14)\n",
    "\n",
    "figure.tight_layout()\n",
    "  \n",
    "# Combine all the operations and display\n",
    "plt.show()"
   ]
  },
  {
   "cell_type": "markdown",
   "id": "3b95a2b4",
   "metadata": {},
   "source": [
    "# Storing the cleaned data"
   ]
  },
  {
   "cell_type": "code",
   "execution_count": 531,
   "id": "9af09b28",
   "metadata": {},
   "outputs": [],
   "source": [
    "f = open(\"40N_Od_removed.pkl\",\"wb\")\n",
    "\n",
    "pickle.dump(dict_clean,f)\n",
    "\n",
    "# close file\n",
    "f.close()"
   ]
  },
  {
   "cell_type": "code",
   "execution_count": null,
   "id": "f96394dc",
   "metadata": {},
   "outputs": [],
   "source": []
  }
 ],
 "metadata": {
  "kernelspec": {
   "display_name": "Python 3 (ipykernel)",
   "language": "python",
   "name": "python3"
  },
  "language_info": {
   "codemirror_mode": {
    "name": "ipython",
    "version": 3
   },
   "file_extension": ".py",
   "mimetype": "text/x-python",
   "name": "python",
   "nbconvert_exporter": "python",
   "pygments_lexer": "ipython3",
   "version": "3.9.15"
  }
 },
 "nbformat": 4,
 "nbformat_minor": 5
}
