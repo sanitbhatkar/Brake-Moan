{
 "cells": [
  {
   "cell_type": "code",
   "execution_count": 19,
   "id": "fd4dae3d",
   "metadata": {},
   "outputs": [],
   "source": [
    "import pandas as pd\n",
    "import os"
   ]
  },
  {
   "cell_type": "code",
   "execution_count": 20,
   "id": "3c93f70a",
   "metadata": {},
   "outputs": [],
   "source": [
    "temp = pd.read_pickle('batch1.pkl')"
   ]
  },
  {
   "cell_type": "code",
   "execution_count": 21,
   "id": "15de78bb",
   "metadata": {},
   "outputs": [],
   "source": [
    "def nest_key(d, indent=0):\n",
    "    \n",
    "    for key, value in d.items():\n",
    "        \n",
    "        print('\\t' * indent + f'{key}')\n",
    "        \n",
    "        if isinstance(value, dict):\n",
    "            \n",
    "            nest_key(value, indent+1)\n",
    "            \n",
    "#         else:\n",
    "#             print('\\t' * (indent+1) + str(value))"
   ]
  }
 ],
 "metadata": {
  "kernelspec": {
   "display_name": "Python 3 (ipykernel)",
   "language": "python",
   "name": "python3"
  },
  "language_info": {
   "codemirror_mode": {
    "name": "ipython",
    "version": 3
   },
   "file_extension": ".py",
   "mimetype": "text/x-python",
   "name": "python",
   "nbconvert_exporter": "python",
   "pygments_lexer": "ipython3",
   "version": "3.9.15"
  }
 },
 "nbformat": 4,
 "nbformat_minor": 5
}
