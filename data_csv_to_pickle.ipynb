{
 "cells": [
  {
   "cell_type": "markdown",
   "id": "78d03764",
   "metadata": {},
   "source": [
    "# Library Import"
   ]
  },
  {
   "cell_type": "code",
   "execution_count": 1,
   "id": "ec9cba03",
   "metadata": {},
   "outputs": [],
   "source": [
    "import numpy as np\n",
    "import pandas as pd\n",
    "import matplotlib.pyplot as plt\n",
    "import os\n",
    "import openpyxl\n",
    "import pickle"
   ]
  },
  {
   "cell_type": "markdown",
   "id": "f3ba6914",
   "metadata": {},
   "source": [
    "# Worksheet Import"
   ]
  },
  {
   "cell_type": "code",
   "execution_count": 3,
   "id": "203596c1",
   "metadata": {},
   "outputs": [],
   "source": [
    "# Loading the Excel file \n",
    "\n",
    "dataframe = openpyxl.load_workbook(\"_30N_Vel.xlsx\", data_only=True)"
   ]
  },
  {
   "cell_type": "code",
   "execution_count": 4,
   "id": "29b8ad46",
   "metadata": {},
   "outputs": [],
   "source": [
    "# Sheet names\n",
    "sheet_names = dataframe.sheetnames"
   ]
  },
  {
   "cell_type": "code",
   "execution_count": 5,
   "id": "375d3fdb",
   "metadata": {},
   "outputs": [],
   "source": [
    "dict = {}"
   ]
  },
  {
   "cell_type": "markdown",
   "id": "bdaf4655",
   "metadata": {},
   "source": [
    "# Negative Value Removing Function"
   ]
  },
  {
   "cell_type": "code",
   "execution_count": 6,
   "id": "2737ac14",
   "metadata": {},
   "outputs": [],
   "source": [
    "# Function for removing the negative values from datafarme\n",
    "\n",
    "def neg_remove(df):\n",
    "    \n",
    "    a = list(df.keys())\n",
    "    temp = df[df[a]>0]\n",
    "    \n",
    "    return temp"
   ]
  },
  {
   "cell_type": "markdown",
   "id": "7d9c274c",
   "metadata": {},
   "source": [
    "# Sheet Cleaning Function"
   ]
  },
  {
   "cell_type": "code",
   "execution_count": 8,
   "id": "ca19c180",
   "metadata": {},
   "outputs": [],
   "source": [
    "def clean_sheet(df):\n",
    "    \n",
    "    temp = df\n",
    "#     print(temp.head())\n",
    "    \n",
    "    # Dropping Extra Columns\n",
    "    df.drop(columns = df.columns[[0,1,2,-1]], axis = 1, inplace = True)\n",
    "    \n",
    "    # Renaming the columns for the convenience\n",
    "    rename_columns = ['vel','T_cor','F_lever','T_SG','press','temp','pos']\n",
    "    df.columns = rename_columns\n",
    "    df.drop(index = 0, inplace = True)\n",
    "    \n",
    "    # Removing the negative values\n",
    "    df = df.apply(neg_remove)\n",
    "    df.dropna(axis = 0,inplace = True)\n",
    "    \n",
    "    # Resetting the index\n",
    "    df.reset_index(inplace = True)\n",
    "    df.drop(columns=df.columns[[0]],inplace = True)\n",
    "    \n",
    "    return df\n",
    "       "
   ]
  },
  {
   "cell_type": "markdown",
   "id": "b0387ca8",
   "metadata": {},
   "source": [
    "# Loop for all the Sheets"
   ]
  },
  {
   "cell_type": "code",
   "execution_count": 9,
   "id": "b1fffc3f",
   "metadata": {},
   "outputs": [],
   "source": [
    "for i in np.arange(0,len(sheet_names),1):\n",
    "    \n",
    "    # Getting the sheet name\n",
    "    sheet = dataframe[sheet_names[i]]\n",
    "    df = pd.DataFrame(sheet.values)\n",
    "    \n",
    "    # Cleaned sheet storage\n",
    "    d = clean_sheet(df).to_dict()\n",
    "    \n",
    "    # Storing values in global pickle dictionary\n",
    "    dict[sheet_names[i]] = d  "
   ]
  },
  {
   "cell_type": "markdown",
   "id": "d0e2f01d",
   "metadata": {},
   "source": [
    "# Saving the data in pickle format"
   ]
  },
  {
   "cell_type": "code",
   "execution_count": 270,
   "id": "3b67af75",
   "metadata": {},
   "outputs": [],
   "source": [
    "f = open(\"30N.pkl\",\"wb\")\n",
    "\n",
    "pickle.dump(dict,f)\n",
    "\n",
    "# close file\n",
    "f.close()"
   ]
  }
 ],
 "metadata": {
  "kernelspec": {
   "display_name": "Python 3 (ipykernel)",
   "language": "python",
   "name": "python3"
  },
  "language_info": {
   "codemirror_mode": {
    "name": "ipython",
    "version": 3
   },
   "file_extension": ".py",
   "mimetype": "text/x-python",
   "name": "python",
   "nbconvert_exporter": "python",
   "pygments_lexer": "ipython3",
   "version": "3.9.12"
  }
 },
 "nbformat": 4,
 "nbformat_minor": 5
}
